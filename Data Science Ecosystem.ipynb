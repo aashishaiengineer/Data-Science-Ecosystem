{
 "cells": [
  {
   "cell_type": "markdown",
   "id": "4c2eaeae-bb1a-4cfe-bb1a-bb6c33cea1ae",
   "metadata": {},
   "source": [
    "# Data Science Tools and Ecosystem"
   ]
  },
  {
   "cell_type": "markdown",
   "id": "89f41382-9a22-49b7-8085-8ff355139335",
   "metadata": {},
   "source": [
    "In this notebook, Data Science Tools and Ecosystem are summarized."
   ]
  },
  {
   "cell_type": "markdown",
   "id": "1c98e95a-fae2-459f-bb78-b5d28e3069b0",
   "metadata": {},
   "source": [
    "**Objectives**\n",
    "+ List some of the popular languages in Data Science\n",
    "+ List commonly used libraries\n",
    "+ List some of the common open-source Data Science tools\n",
    "+ Performing arithmetic calculations by adding and multiplying integers\n",
    "+ converting 200 minutes to hours by dividing it by 60"
   ]
  },
  {
   "cell_type": "markdown",
   "id": "a07ac32f-43ad-40a5-92ad-01ae40c3be47",
   "metadata": {},
   "source": [
    "Some of the popular languages that Data Scientists use are:\n",
    "1. Python\n",
    "2. R\n",
    "3. SQL\n",
    "4. Julia\n",
    "5. Scala"
   ]
  },
  {
   "cell_type": "markdown",
   "id": "80c3fc66-81d3-49cf-8498-5c3b84f12808",
   "metadata": {},
   "source": [
    "Some of the commonly used libraries used by Data Scientists include:\n",
    "1. numpy\n",
    "2. Pandas\n",
    "3. matplotlib\n",
    "4. plotly\n",
    "5. scikit-learn"
   ]
  },
  {
   "cell_type": "markdown",
   "id": "de561aea-b1a1-409f-9ab5-606a5a0c1509",
   "metadata": {},
   "source": [
    "|Data Science Tools|\n",
    "|------------------|\n",
    "|Anaconda Navigator|\n",
    "|RStudio|\n",
    "|Jupyter Lab|\n",
    "|Google Colaboratory|"
   ]
  },
  {
   "cell_type": "markdown",
   "id": "787b129c-5431-42d6-b3d9-87eac25db4a2",
   "metadata": {},
   "source": [
    "### Below are a few examples of evaluating arithmetic expressions in Python"
   ]
  },
  {
   "cell_type": "code",
   "execution_count": 2,
   "id": "5fe6d08b-eba3-4b44-a284-f0e96b0cba30",
   "metadata": {},
   "outputs": [
    {
     "data": {
      "text/plain": [
       "17"
      ]
     },
     "execution_count": 2,
     "metadata": {},
     "output_type": "execute_result"
    }
   ],
   "source": [
    "# This a simple arithmetic expression to mutiply then add integers\n",
    "(3 * 4) + 5"
   ]
  },
  {
   "cell_type": "code",
   "execution_count": 3,
   "id": "fe993ae3-2a3e-46e2-85ae-680c6e0c916b",
   "metadata": {},
   "outputs": [
    {
     "data": {
      "text/plain": [
       "3.3333333333333335"
      ]
     },
     "execution_count": 3,
     "metadata": {},
     "output_type": "execute_result"
    }
   ],
   "source": [
    "# This will convert 200 minutes to hours by diving by 60\n",
    "200 / 60"
   ]
  },
  {
   "cell_type": "markdown",
   "id": "55a5312b-2cbe-41d6-8d6b-89db57ac40ee",
   "metadata": {},
   "source": [
    "## Author\n",
    "Aashish Batchali"
   ]
  }
 ],
 "metadata": {
  "kernelspec": {
   "display_name": "Python 3 (ipykernel)",
   "language": "python",
   "name": "python3"
  },
  "language_info": {
   "codemirror_mode": {
    "name": "ipython",
    "version": 3
   },
   "file_extension": ".py",
   "mimetype": "text/x-python",
   "name": "python",
   "nbconvert_exporter": "python",
   "pygments_lexer": "ipython3",
   "version": "3.12.7"
  }
 },
 "nbformat": 4,
 "nbformat_minor": 5
}
